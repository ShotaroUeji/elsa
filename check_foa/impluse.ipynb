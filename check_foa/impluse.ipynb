{
 "cells": [
  {
   "cell_type": "code",
   "execution_count": 2,
   "metadata": {},
   "outputs": [
    {
     "name": "stdout",
     "output_type": "stream",
     "text": [
      "--- PyRoomAcoustics Latency Check ---\n",
      "音源とマイクを同一地点 [2.5, 2.5, 2.5] に設置。\n",
      "物理的な伝播遅延は 0 ms です。\n",
      "-----------------------------------\n",
      "観測されたRIRのピーク位置: 0 sample\n",
      "計算された内部遅延 (レイテンシ): 0.000 ms\n"
     ]
    }
   ],
   "source": [
    "import numpy as np\n",
    "import pyroomacoustics as pra\n",
    "import math\n",
    "\n",
    "# --- ライブラリの内部遅延を測定する実験 ---\n",
    "\n",
    "FS = 48000\n",
    "ROOM_DIMS = [5, 5, 5] # 部屋のサイズは任意\n",
    "C = 343.0\n",
    "MAX_ORDER = 0 # 直達音のみ\n",
    "\n",
    "# 音源とマイクを全く同じ位置に置く\n",
    "# 物理的な伝播時間はゼロになるはず\n",
    "pos = [2.5, 2.5, 2.5] \n",
    "\n",
    "room = pra.ShoeBox(ROOM_DIMS, fs=FS, max_order=MAX_ORDER)\n",
    "room.c = C\n",
    "room.add_source(pos)\n",
    "room.add_microphone(pos) # マイクは1つでOK\n",
    "\n",
    "# RIRを計算\n",
    "room.compute_rir()\n",
    "\n",
    "# RIRのピーク位置（サンプル）を取得\n",
    "peak_sample = np.argmax(room.rir[0][0])\n",
    "# ピーク時間（レイテンシ）を計算\n",
    "latency_ms = (peak_sample / FS) * 1000\n",
    "\n",
    "print(\"--- PyRoomAcoustics Latency Check ---\")\n",
    "print(f\"音源とマイクを同一地点 {pos} に設置。\")\n",
    "print(f\"物理的な伝播遅延は 0 ms です。\")\n",
    "print(\"-\" * 35)\n",
    "print(f\"観測されたRIRのピーク位置: {peak_sample} sample\")\n",
    "print(f\"計算された内部遅延 (レイテンシ): {latency_ms:.3f} ms\")"
   ]
  }
 ],
 "metadata": {
  "kernelspec": {
   "display_name": ".venv",
   "language": "python",
   "name": "python3"
  },
  "language_info": {
   "codemirror_mode": {
    "name": "ipython",
    "version": 3
   },
   "file_extension": ".py",
   "mimetype": "text/x-python",
   "name": "python",
   "nbconvert_exporter": "python",
   "pygments_lexer": "ipython3",
   "version": "3.12.3"
  }
 },
 "nbformat": 4,
 "nbformat_minor": 5
}
